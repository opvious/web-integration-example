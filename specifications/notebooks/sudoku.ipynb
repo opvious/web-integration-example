{
 "cells": [
  {
   "cell_type": "code",
   "execution_count": 1,
   "id": "f34676ec-2b1e-4e65-99a7-883bcd7392f0",
   "metadata": {},
   "outputs": [
    {
     "data": {
      "text/markdown": [
       "<div style=\"margin-top: 1em; margin-bottom: 1em;\">\n",
       "<details open>\n",
       "<summary style=\"cursor: pointer; text-decoration: underline; text-decoration-style: dotted;\">Sudoku</summary>\n",
       "<div style=\"margin-top: 1em;\">\n",
       "$$\n",
       "\\begin{align*}\n",
       "  \\S^p_\\mathrm{input[row,column,value]}&: i \\in \\{0, 1\\}^{P \\times P \\times V} \\\\\n",
       "  \\S^v_\\mathrm{output[row,column,value]}&: \\omicron \\in \\{0, 1\\}^{P \\times P \\times V} \\\\\n",
       "  \\S^a&: P \\doteq \\{ 0 \\ldots 8 \\} \\\\\n",
       "  \\S^a&: V \\doteq \\{ 1 \\ldots 9 \\} \\\\\n",
       "  \\S^c_\\mathrm{outputMatchesInput}&: \\forall p \\in P, p' \\in P, v \\in V \\mid i_{p,p',v} \\neq 0, \\omicron_{p,p',v} \\geq i_{p,p',v} \\\\\n",
       "  \\S^c_\\mathrm{oneOutputPerCell}&: \\forall p \\in P, p' \\in P, \\sum_{v \\in V} \\omicron_{p,p',v} = 1 \\\\\n",
       "  \\S^c_\\mathrm{oneValuePerColumn}&: \\forall p \\in P, v \\in V, \\sum_{p' \\in P} \\omicron_{p',p,v} = 1 \\\\\n",
       "  \\S^c_\\mathrm{oneValuePerRow}&: \\forall p \\in P, v \\in V, \\sum_{p' \\in P} \\omicron_{p,p',v} = 1 \\\\\n",
       "  \\S^c_\\mathrm{oneValuePerBox}&: \\forall v \\in V, p \\in P, \\sum_{p' \\in P} \\omicron_{3 \\left\\lfloor \\frac{p}{3} \\right\\rfloor + \\left\\lfloor \\frac{p'}{3} \\right\\rfloor,3 \\left(p \\bmod 3\\right) + p' \\bmod 3,v} = 1 \\\\\n",
       "\\end{align*}\n",
       "$$\n",
       "</div>\n",
       "</details>\n",
       "</div>"
      ],
      "text/plain": [
       "LocalSpecification(sources=[LocalSpecificationSource(text=\"$$\\n\\\\begin{align*}\\n  \\\\S^p_\\\\mathrm{input[row,column,value]}&: i \\\\in \\\\{0, 1\\\\}^{P \\\\times P \\\\times V} \\\\\\\\\\n  \\\\S^v_\\\\mathrm{output[row,column,value]}&: \\\\omicron \\\\in \\\\{0, 1\\\\}^{P \\\\times P \\\\times V} \\\\\\\\\\n  \\\\S^a&: P \\\\doteq \\\\{ 0 \\\\ldots 8 \\\\} \\\\\\\\\\n  \\\\S^a&: V \\\\doteq \\\\{ 1 \\\\ldots 9 \\\\} \\\\\\\\\\n  \\\\S^c_\\\\mathrm{outputMatchesInput}&: \\\\forall p \\\\in P, p' \\\\in P, v \\\\in V \\\\mid i_{p,p',v} \\\\neq 0, \\\\omicron_{p,p',v} \\\\geq i_{p,p',v} \\\\\\\\\\n  \\\\S^c_\\\\mathrm{oneOutputPerCell}&: \\\\forall p \\\\in P, p' \\\\in P, \\\\sum_{v \\\\in V} \\\\omicron_{p,p',v} = 1 \\\\\\\\\\n  \\\\S^c_\\\\mathrm{oneValuePerColumn}&: \\\\forall p \\\\in P, v \\\\in V, \\\\sum_{p' \\\\in P} \\\\omicron_{p',p,v} = 1 \\\\\\\\\\n  \\\\S^c_\\\\mathrm{oneValuePerRow}&: \\\\forall p \\\\in P, v \\\\in V, \\\\sum_{p' \\\\in P} \\\\omicron_{p,p',v} = 1 \\\\\\\\\\n  \\\\S^c_\\\\mathrm{oneValuePerBox}&: \\\\forall v \\\\in V, p \\\\in P, \\\\sum_{p' \\\\in P} \\\\omicron_{3 \\\\left\\\\lfloor \\\\frac{p}{3} \\\\right\\\\rfloor + \\\\left\\\\lfloor \\\\frac{p'}{3} \\\\right\\\\rfloor,3 \\\\left(p \\\\bmod 3\\\\right) + p' \\\\bmod 3,v} = 1 \\\\\\\\\\n\\\\end{align*}\\n$$\", title='Sudoku')], description='A mixed-integer model for Sudoku', annotation=None)"
      ]
     },
     "execution_count": 1,
     "metadata": {},
     "output_type": "execute_result"
    }
   ],
   "source": [
    "import opvious.modeling as om\n",
    "\n",
    "class Sudoku(om.Model):\n",
    "    \"\"\"A mixed-integer model for Sudoku\"\"\"\n",
    "    \n",
    "    positions = om.interval(0, 8, name='P')\n",
    "    values = om.interval(1, 9, name='V')\n",
    "\n",
    "    def __init__(self):\n",
    "        self.input = om.Parameter.indicator(self.grid * self.values, qualifiers=['row', 'column', 'value'])\n",
    "        self.output = om.Variable.indicator(self.grid * self.values, qualifiers=['row', 'column', 'value'])\n",
    "\n",
    "    @property\n",
    "    def grid(self):\n",
    "        \"\"\"Cross-product of (row, column) positions\"\"\"\n",
    "        return self.positions * self.positions\n",
    "\n",
    "    @om.constraint\n",
    "    def output_matches_input(self):\n",
    "        \"\"\"The output must match all input values where specified\"\"\"\n",
    "        for i, j, v in self.grid * self.values:\n",
    "            if self.input(i, j, v):\n",
    "                yield self.output(i, j, v) >= self.input(i, j, v)\n",
    "\n",
    "    @om.constraint\n",
    "    def one_output_per_cell(self):\n",
    "        \"\"\"Each cell has exactly one value\"\"\"\n",
    "        for i, j in self.grid:\n",
    "            yield om.total(self.output(i, j, v) == 1 for v in self.values)\n",
    "\n",
    "    @om.constraint\n",
    "    def one_value_per_column(self):\n",
    "        \"\"\"Each value is present exactly once per column\"\"\"\n",
    "        for j, v in self.positions * self.values:\n",
    "            yield om.total(self.output(i, j, v) == 1 for i in self.positions)\n",
    "\n",
    "    @om.constraint\n",
    "    def one_value_per_row(self):\n",
    "        \"\"\"Each value is present exactly once per row\"\"\"\n",
    "        for i, v in self.positions * self.values:\n",
    "            yield om.total(self.output(i, j, v) == 1 for j in self.positions)\n",
    "\n",
    "    @om.constraint\n",
    "    def one_value_per_box(self):\n",
    "        \"\"\"Each value is present exactly once per box\"\"\"\n",
    "        for v, b in self.values * self.positions:\n",
    "            yield om.total(\n",
    "                self.output(3 * (b // 3) + c // 3, 3 * (b % 3) + c % 3, v) == 1\n",
    "                for c in self.positions\n",
    "            )\n",
    "            \n",
    "model = Sudoku()\n",
    "model.specification()"
   ]
  },
  {
   "cell_type": "code",
   "execution_count": null,
   "id": "5654e651-9618-4569-b5db-f6e5eb01d9a0",
   "metadata": {},
   "outputs": [],
   "source": []
  }
 ],
 "metadata": {
  "kernelspec": {
   "display_name": "Python 3 (ipykernel)",
   "language": "python",
   "name": "python3"
  },
  "language_info": {
   "codemirror_mode": {
    "name": "ipython",
    "version": 3
   },
   "file_extension": ".py",
   "mimetype": "text/x-python",
   "name": "python",
   "nbconvert_exporter": "python",
   "pygments_lexer": "ipython3",
   "version": "3.11.5"
  }
 },
 "nbformat": 4,
 "nbformat_minor": 5
}
